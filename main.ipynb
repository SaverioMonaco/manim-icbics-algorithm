{
 "cells": [
  {
   "cell_type": "code",
   "execution_count": 1,
   "metadata": {},
   "outputs": [
    {
     "data": {
      "text/html": [
       "<pre style=\"white-space:pre;overflow-x:auto;line-height:normal;font-family:Menlo,'DejaVu Sans Mono',consolas,'Courier New',monospace\">Manim Community <span style=\"color: #008000; text-decoration-color: #008000\">v0.17.3</span>\n",
       "\n",
       "</pre>\n"
      ],
      "text/plain": [
       "Manim Community \u001b[32mv0.\u001b[0m\u001b[32m17.3\u001b[0m\n",
       "\n"
      ]
     },
     "metadata": {},
     "output_type": "display_data"
    }
   ],
   "source": [
    "import numpy as np\n",
    "from manim import *"
   ]
  },
  {
   "attachments": {},
   "cell_type": "markdown",
   "metadata": {},
   "source": [
    "### Quick test of the sorting function"
   ]
  },
  {
   "cell_type": "code",
   "execution_count": 2,
   "metadata": {},
   "outputs": [],
   "source": [
    "def ICBICsort(A : list) -> list:\n",
    "    \"The “I Can't Believe It Can Sort” Algorithm\"\n",
    "    n = len(A)\n",
    "\n",
    "    for i in range(n):\n",
    "        for j in range(n):\n",
    "            if A[i] < A[j]:\n",
    "                A[i], A[j] = A[j], A[i]\n",
    "                \n",
    "    return A\n"
   ]
  },
  {
   "cell_type": "code",
   "execution_count": 3,
   "metadata": {},
   "outputs": [
    {
     "name": "stdout",
     "output_type": "stream",
     "text": [
      "Before sorting:\n",
      "[8 3 2 1 7 4 6 0 9 5]\n",
      "After sorting:\n",
      "[0 1 2 3 4 5 6 7 8 9]\n"
     ]
    }
   ],
   "source": [
    "N = 10\n",
    "randomlist = np.random.choice(np.arange(N), size=N, replace=False)\n",
    "\n",
    "print('Before sorting:')\n",
    "print(randomlist)\n",
    "print('After sorting:')\n",
    "print(ICBICsort(randomlist))"
   ]
  },
  {
   "attachments": {},
   "cell_type": "markdown",
   "metadata": {},
   "source": [
    "the list is indeed sorted"
   ]
  },
  {
   "attachments": {},
   "cell_type": "markdown",
   "metadata": {},
   "source": [
    "### Animation"
   ]
  },
  {
   "cell_type": "code",
   "execution_count": 4,
   "metadata": {},
   "outputs": [
    {
     "name": "stderr",
     "output_type": "stream",
     "text": [
      "                                                                                    \r"
     ]
    },
    {
     "data": {
      "text/html": [
       "<video src=\"media/jupyter/Sort@2023-09-20@13-14-23.mp4\" controls autoplay loop style=\"max-width: 60%;\"  >\n",
       "      Your browser does not support the <code>video</code> element.\n",
       "    </video>"
      ],
      "text/plain": [
       "<IPython.core.display.Video object>"
      ]
     },
     "metadata": {},
     "output_type": "display_data"
    }
   ],
   "source": [
    "%%manim -ql -v WARNING Sort\n",
    "\n",
    "def Scene_getvars():\n",
    "    \"\"\"Get the main arrays for the animation\"\"\"\n",
    "    # VARIABLES\n",
    "    N = 6 # number of elements of the list\n",
    "\n",
    "    # list: (1,2,3,...,N) randomly shuffled\n",
    "    A = np.random.choice(np.arange(1,N+1), size=N, replace=False)\n",
    "\n",
    "    heights = 3*A/N\n",
    "    xs = np.linspace(-6,6,N)  # x-coordinates of each element\n",
    "    ys = heights/2 - 2.4      # y-coordinates of each element\n",
    "\n",
    "    return N, A, heights, xs, ys\n",
    "\n",
    "def Scene_getelems(N, A, heights, xs, ys):\n",
    "    \"\"\"Get the elements for the animations\"\"\"\n",
    "    rectangles = [Rectangle(width=6/N, height=h).move_to([x, y, 0]) for h, x, y in zip(heights, xs, ys)]\n",
    "    values     = [Text(str(value)) for value in A]\n",
    "\n",
    "    return rectangles, values\n",
    "\n",
    "def Scene_setup(rectangles, values, xs):\n",
    "    \"\"\"Get the animation for setting up the scene\"\"\"\n",
    "    create_recs = tuple([Create(rectangle.set_fill(WHITE, opacity=.6)) for rectangle in rectangles])\n",
    "    set_values  = tuple([Write(value.move_to([x, -3., 0])) for x, value in zip(xs, values)])\n",
    "\n",
    "    toplay = create_recs + set_values\n",
    "\n",
    "    title = Text(str('The \\\"I Can\\'t Believe It Can Sort\\\" Algorithm')).move_to([0,3,0])\n",
    "\n",
    "    i, j = 0, 0\n",
    "    istr = MathTex('i = ' + str(i), font_size=50, color=BLUE).move_to([-5.5,2,0])\n",
    "    jstr = MathTex('j = ' + str(j), font_size=50, color=YELLOW).next_to(istr, DOWN)\n",
    "\n",
    "    return AnimationGroup(*toplay), title, istr, jstr\n",
    "\n",
    "def swap_recs(ys, xs, rectangles, values, l,k):\n",
    "    \"\"\"Animation for swapping two elements\"\"\"\n",
    "    y_l, y_k = ys[l], ys[k]\n",
    "    rectangles[l].generate_target().move_to([xs[k], y_l, 0])\n",
    "    rectangles[k].generate_target().move_to([xs[l], y_k, 0])\n",
    "    rec_anim = [MoveToTarget(rectangles[l]), MoveToTarget(rectangles[k])]\n",
    "    text_anim = [values[l].animate.move_to([xs[k], -3, 0]) , values[k].animate.move_to([xs[l], -3, 0])]\n",
    "    return AnimationGroup(*tuple(rec_anim + text_anim))\n",
    "\n",
    "def mark_recs(xs, rectangles, values, l, k, coll = BLUE, colk = YELLOW):\n",
    "    \"\"\"Animation for updating the indexes i,j\"\"\"\n",
    "    anim = [rectangle.animate.set_fill(WHITE) for rectangle in rectangles]\n",
    "    if l == k: # If both loop variable point to the same element, mark it green \n",
    "        anim[l] = rectangles[l].animate.set_fill(GREEN)\n",
    "    else:\n",
    "        anim[l] = rectangles[l].animate.set_fill(coll)\n",
    "        anim[k] = rectangles[k].animate.set_fill(colk)\n",
    "\n",
    "    return AnimationGroup(*tuple(anim))\n",
    "\n",
    "class Sort(Scene):\n",
    "    def construct(self):\n",
    "        # Setup the variables\n",
    "        N, A, heights, xs, ys = Scene_getvars()\n",
    "\n",
    "        # Get the animated element\n",
    "        rectangles, values = Scene_getelems(N, A, heights, xs, ys)\n",
    "\n",
    "        # SET LAYOUT\n",
    "        setupanim, title, istr, jstr = Scene_setup(rectangles, values, xs)\n",
    "        self.add(istr, jstr)\n",
    "        self.add(title)\n",
    "        self.play(setupanim)\n",
    "\n",
    "        # Add an updater for the Texts showing the current indexes\n",
    "        def update_i(mob):\n",
    "            mob.become(MathTex('i = ' + str(i), font_size=50, color=BLUE).move_to([-5.5,2,0]))\n",
    "\n",
    "        def update_j(mob):\n",
    "            mob.become(MathTex('j = ' + str(j), font_size=50, color=YELLOW).next_to(istr, DOWN))\n",
    "\n",
    "        istr.add_updater(update_i)\n",
    "        jstr.add_updater(update_j)\n",
    "\n",
    "        # I can't believe it can sort algorithm\n",
    "        for i in range(N):\n",
    "            for j in range(N):\n",
    "                self.play(mark_recs(xs, rectangles, values, i,j))\n",
    "                if A[i] < A[j]:\n",
    "                    self.play(swap_recs(ys, xs, rectangles, values, i,j))\n",
    "                    A[i], A[j] = A[j], A[i]\n",
    "                    rectangles[i], rectangles[j] = rectangles[j], rectangles[i]\n",
    "                    values[i], values[j] = values[j], values[i]\n",
    "                    ys[i], ys[j] = ys[j], ys[i]\n",
    "\n",
    "        # Final animation\n",
    "        self.play(AnimationGroup(*tuple([rectangle.animate.set_fill(GREEN) for rectangle in rectangles])))\n",
    "        self.wait()\n",
    "\n",
    "\n",
    " "
   ]
  },
  {
   "cell_type": "code",
   "execution_count": null,
   "metadata": {},
   "outputs": [],
   "source": []
  }
 ],
 "metadata": {
  "kernelspec": {
   "display_name": "base",
   "language": "python",
   "name": "python3"
  },
  "language_info": {
   "codemirror_mode": {
    "name": "ipython",
    "version": 3
   },
   "file_extension": ".py",
   "mimetype": "text/x-python",
   "name": "python",
   "nbconvert_exporter": "python",
   "pygments_lexer": "ipython3",
   "version": "3.10.9"
  },
  "orig_nbformat": 4
 },
 "nbformat": 4,
 "nbformat_minor": 2
}
